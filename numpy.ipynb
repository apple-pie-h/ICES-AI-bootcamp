{
  "nbformat": 4,
  "nbformat_minor": 0,
  "metadata": {
    "colab": {
      "provenance": [],
      "authorship_tag": "ABX9TyOSHAJNO5L2l8DyTvMAPHYc",
      "include_colab_link": true
    },
    "kernelspec": {
      "name": "python3",
      "display_name": "Python 3"
    },
    "language_info": {
      "name": "python"
    }
  },
  "cells": [
    {
      "cell_type": "markdown",
      "metadata": {
        "id": "view-in-github",
        "colab_type": "text"
      },
      "source": [
        "<a href=\"https://colab.research.google.com/github/apple-pie-h/ICES-AI-bootcamp/blob/main/numpy.ipynb\" target=\"_parent\"><img src=\"https://colab.research.google.com/assets/colab-badge.svg\" alt=\"Open In Colab\"/></a>"
      ]
    },
    {
      "cell_type": "markdown",
      "source": [
        "#Numpy Assignment"
      ],
      "metadata": {
        "id": "lGWgcvtGHomy"
      }
    },
    {
      "cell_type": "markdown",
      "source": [
        "#### Exercise: Load and save numpy array from memory to disk.\n",
        "#### Exercise: Implement an image filter using numpy array manipulation\n",
        "#### Exercise: Implement 2d rotation of image using numpy\n",
        "#### Exercise: Review the important concepts and do some challenges in each section"
      ],
      "metadata": {
        "id": "MgoV01ngHqrO"
      }
    },
    {
      "cell_type": "code",
      "execution_count": null,
      "metadata": {
        "id": "oZNvCuEqENCe"
      },
      "outputs": [],
      "source": []
    }
  ]
}