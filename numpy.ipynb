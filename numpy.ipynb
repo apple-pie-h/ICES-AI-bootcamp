{
  "nbformat": 4,
  "nbformat_minor": 0,
  "metadata": {
    "colab": {
      "provenance": [],
      "authorship_tag": "ABX9TyOEQO7kWYJa26gIDSfJ937C",
      "include_colab_link": true
    },
    "kernelspec": {
      "name": "python3",
      "display_name": "Python 3"
    },
    "language_info": {
      "name": "python"
    }
  },
  "cells": [
    {
      "cell_type": "markdown",
      "metadata": {
        "id": "view-in-github",
        "colab_type": "text"
      },
      "source": [
        "<a href=\"https://colab.research.google.com/github/apple-pie-h/ICES-AI-bootcamp/blob/main/numpy.ipynb\" target=\"_parent\"><img src=\"https://colab.research.google.com/assets/colab-badge.svg\" alt=\"Open In Colab\"/></a>"
      ]
    },
    {
      "cell_type": "markdown",
      "source": [
        "#Numpy Assignment"
      ],
      "metadata": {
        "id": "lGWgcvtGHomy"
      }
    },
    {
      "cell_type": "code",
      "execution_count": 19,
      "metadata": {
        "id": "oZNvCuEqENCe"
      },
      "outputs": [],
      "source": [
        "#importing numpy\n",
        "import numpy as np"
      ]
    },
    {
      "cell_type": "markdown",
      "source": [
        "##Exercise 1: Load and save numpy array from memory to disk"
      ],
      "metadata": {
        "id": "65hDrlZVdAtW"
      }
    },
    {
      "cell_type": "code",
      "source": [
        "a=np.array([1,2,3])\n",
        "print(a)\n",
        "b=np.array([[1,2,3],[4,5,6]])\n",
        "print(b)"
      ],
      "metadata": {
        "colab": {
          "base_uri": "https://localhost:8080/"
        },
        "id": "DS0fqxaiZrC3",
        "outputId": "6c9ed9a5-2452-4f7a-bed6-fb6e2800c369"
      },
      "execution_count": 4,
      "outputs": [
        {
          "output_type": "stream",
          "name": "stdout",
          "text": [
            "[1 2 3]\n",
            "[[1 2 3]\n",
            " [4 5 6]]\n"
          ]
        }
      ]
    },
    {
      "cell_type": "code",
      "source": [
        "np.save('a.npy',a) #to save single numpy array"
      ],
      "metadata": {
        "id": "hD0Ynx7vdZ5l"
      },
      "execution_count": 5,
      "outputs": []
    },
    {
      "cell_type": "code",
      "source": [
        "l=np.load('a.npy')\n",
        "print(l)"
      ],
      "metadata": {
        "colab": {
          "base_uri": "https://localhost:8080/"
        },
        "id": "c3p40YZrdpzF",
        "outputId": "c3563a01-dd9e-4b5e-a795-f88799ebffb7"
      },
      "execution_count": 7,
      "outputs": [
        {
          "output_type": "stream",
          "name": "stdout",
          "text": [
            "[1 2 3]\n"
          ]
        }
      ]
    },
    {
      "cell_type": "code",
      "source": [
        "np.savez('arr.npz',a,b) #to save multiple numpy array\n",
        "l=np.load('arr.npz')\n",
        "print(l)"
      ],
      "metadata": {
        "colab": {
          "base_uri": "https://localhost:8080/"
        },
        "id": "7FDVUnGYdvHE",
        "outputId": "f8400e97-4a16-4082-f125-32d04c3993d6"
      },
      "execution_count": 12,
      "outputs": [
        {
          "output_type": "stream",
          "name": "stdout",
          "text": [
            "NpzFile 'arr.npz' with keys: arr_0, arr_1\n"
          ]
        }
      ]
    },
    {
      "cell_type": "code",
      "source": [
        "print(l.files)"
      ],
      "metadata": {
        "colab": {
          "base_uri": "https://localhost:8080/"
        },
        "id": "rO8VQbuDgXUw",
        "outputId": "18f1e54d-67a9-4151-f7ed-7ad26f81144d"
      },
      "execution_count": 13,
      "outputs": [
        {
          "output_type": "stream",
          "name": "stdout",
          "text": [
            "['arr_0', 'arr_1']\n"
          ]
        }
      ]
    },
    {
      "cell_type": "code",
      "source": [
        "print(l['arr_0'])"
      ],
      "metadata": {
        "colab": {
          "base_uri": "https://localhost:8080/"
        },
        "id": "s67XFVa0gri5",
        "outputId": "0e7c55af-6b3b-4bd8-8430-7f03da311916"
      },
      "execution_count": 17,
      "outputs": [
        {
          "output_type": "stream",
          "name": "stdout",
          "text": [
            "[1 2 3]\n"
          ]
        }
      ]
    },
    {
      "cell_type": "code",
      "source": [
        "print(l['arr_1'])"
      ],
      "metadata": {
        "colab": {
          "base_uri": "https://localhost:8080/"
        },
        "id": "c6ApJI3rgs_z",
        "outputId": "de523b41-9368-499d-fb77-26294cd2cf9f"
      },
      "execution_count": 18,
      "outputs": [
        {
          "output_type": "stream",
          "name": "stdout",
          "text": [
            "[[1 2 3]\n",
            " [4 5 6]]\n"
          ]
        }
      ]
    },
    {
      "cell_type": "markdown",
      "source": [
        "##Exercise 2: Implement an image filter using numpy array manipulation"
      ],
      "metadata": {
        "id": "hAxdNETdg_uo"
      }
    },
    {
      "cell_type": "code",
      "source": [],
      "metadata": {
        "id": "Vqp0aKbtg9LG"
      },
      "execution_count": null,
      "outputs": []
    },
    {
      "cell_type": "markdown",
      "source": [
        "##Exercise 3: Implement 2d rotation of image using numpy"
      ],
      "metadata": {
        "id": "lSfi8R12iAvk"
      }
    },
    {
      "cell_type": "code",
      "source": [],
      "metadata": {
        "id": "iQS-j4vIiFSC"
      },
      "execution_count": null,
      "outputs": []
    },
    {
      "cell_type": "markdown",
      "source": [
        "##Exercise 4: Review the important concepts and do some challenges in each section"
      ],
      "metadata": {
        "id": "bHCEwfbxiF1a"
      }
    },
    {
      "cell_type": "code",
      "source": [],
      "metadata": {
        "id": "7yovfAutiLkM"
      },
      "execution_count": null,
      "outputs": []
    }
  ]
}