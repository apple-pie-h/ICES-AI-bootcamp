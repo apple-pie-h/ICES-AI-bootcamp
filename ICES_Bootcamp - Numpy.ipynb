{
 "cells": [
  {
   "cell_type": "markdown",
   "id": "7f063357-15e5-449e-a3c5-727e141fad88",
   "metadata": {},
   "source": [
    "# **Welcome!**  \n",
    "> This notebook is a hands-on tour of **NumPy** —> created for the purpose of AI bootcamp by ICES.  \n",
    ">\n",
    "> **What you’ll get:** a short explanation, a compact demo, and a small challenge per topic so you can practice instantly.  \n",
    "> **How to use:** run the code cell below, read the notes, then try the challenge. Have fun! \n"
   ]
  },
  {
   "cell_type": "code",
   "execution_count": 2,
   "id": "56e28c5c-3c0b-4af7-be4e-931f1f9aa420",
   "metadata": {},
   "outputs": [],
   "source": [
    "import numpy as np\n",
    "import random\n",
    "import math"
   ]
  },
  {
   "attachments": {},
   "cell_type": "markdown",
   "id": "c92eb709-a3e4-4c4e-9f01-fce2341fb07b",
   "metadata": {},
   "source": [
    "## Introduction to NumPy\n",
    "> **Why NumPy?**\n",
    "<img src=\"numpy.jpg\" alt=\"array\" width=\"200\"/>\n",
    "\n",
    "> NumPy gives you fast array operations, efficient memory use, and vectorized math that outperforms Python lists for numerical work.  \n",
    ">\n",
    "> **Learning goals:** understand the benefits of NumPy, import it (`import numpy as np`), and see a micro-benchmark comparing lists vs arrays.  \n",
    "> **Tip:** Use `import numpy as np` consistently for readability.  \n",
    "> *Challenge:* Run the demo and note the time difference —> you’ll be surprised."
   ]
  },
  {
   "cell_type": "code",
   "execution_count": 2,
   "id": "42a7e12b-6fb9-44e9-8e5d-90d036b7d230",
   "metadata": {},
   "outputs": [
    {
     "name": "stdout",
     "output_type": "stream",
     "text": [
      "loop time: 0.4386\n"
     ]
    }
   ],
   "source": [
    "#Why numpy -> Speed comparision of operation on python list and numpy array\n",
    "import time\n",
    "\n",
    "# create large list and array\n",
    "N = 10000000\n",
    "py_list = list(range(N))\n",
    "np_arr = np.arange(N)\n",
    "\n",
    "# sum using Python loop (slow)\n",
    "t0 = time.time()\n",
    "s = 0\n",
    "for x in py_list:\n",
    "    s += x\n",
    "t_loop = time.time() - t0\n",
    "\n",
    "print(\"loop time:\", round(t_loop,4))\n",
    "# Outputs: numpy is much faster"
   ]
  },
  {
   "cell_type": "code",
   "execution_count": 3,
   "id": "3865a0af-20e9-4ccb-a0f6-15b89e8590c2",
   "metadata": {},
   "outputs": [
    {
     "name": "stdout",
     "output_type": "stream",
     "text": [
      "numpy time: 0.0043\n"
     ]
    }
   ],
   "source": [
    "# sum using NumPy (fast, vectorized)\n",
    "t0 = time.time()\n",
    "s2 = np_arr.sum()\n",
    "t_numpy = time.time() - t0\n",
    "\n",
    "print(\"numpy time:\", round(t_numpy,4))"
   ]
  },
  {
   "attachments": {},
   "cell_type": "markdown",
   "id": "b1d22342-ad58-4619-bd96-5377bd9c3cea",
   "metadata": {},
   "source": [
    "## Creating Arrays\n",
    "> **What this cell shows:** the main array constructors (`array`, `zeros`, `ones`, `full`, `arange`, `linspace`, and `np.random`).  \n",
    ">\n",
    "> **Learning goals:** create deterministically-shaped arrays and randomized data for experiments.  \n",
    "> **Tip:** Use `np.random.seed()` to make experiments reproducible.  \n",
    "> *Challenge:* Create a 4×4 magic-like matrix with `np.arange` and `reshape`.\n",
    "\n",
    "<img src=\"array.png\" alt=\"array\" width=\"500\"/>"
   ]
  },
  {
   "cell_type": "code",
   "execution_count": 4,
   "id": "5e854034-08d4-4081-9f59-089cfc334359",
   "metadata": {},
   "outputs": [],
   "source": [
    "#Creating array in numpy\n",
    "arr = [1,5,0.8,0.6,0.3]\n",
    "np_arr = np.array(arr)"
   ]
  },
  {
   "cell_type": "code",
   "execution_count": 5,
   "id": "22ee63e1-a574-45d6-a9f1-ea0d8eafe922",
   "metadata": {},
   "outputs": [
    {
     "data": {
      "text/plain": [
       "array([1. , 5. , 0.8, 0.6, 0.3])"
      ]
     },
     "execution_count": 5,
     "metadata": {},
     "output_type": "execute_result"
    }
   ],
   "source": [
    "np_arr"
   ]
  },
  {
   "cell_type": "code",
   "execution_count": 6,
   "id": "54838e0e-ea02-42e2-bfb0-136faa8aa92d",
   "metadata": {},
   "outputs": [
    {
     "data": {
      "text/plain": [
       "array([[0., 0.],\n",
       "       [0., 0.],\n",
       "       [0., 0.],\n",
       "       [0., 0.],\n",
       "       [0., 0.]])"
      ]
     },
     "execution_count": 6,
     "metadata": {},
     "output_type": "execute_result"
    }
   ],
   "source": [
    "#Generating zeros\n",
    "np.zeros((5,2)) "
   ]
  },
  {
   "cell_type": "code",
   "execution_count": 7,
   "id": "162189da-2597-4f8e-82a2-bbaab1479f7f",
   "metadata": {},
   "outputs": [
    {
     "data": {
      "text/plain": [
       "array([[1., 1., 1.],\n",
       "       [1., 1., 1.]])"
      ]
     },
     "execution_count": 7,
     "metadata": {},
     "output_type": "execute_result"
    }
   ],
   "source": [
    "#Generating ones\n",
    "np.ones((2,3)) # (2,1,5)"
   ]
  },
  {
   "cell_type": "code",
   "execution_count": 8,
   "id": "7782421e-78f0-4a5a-9e22-2b27cad54dc2",
   "metadata": {},
   "outputs": [
    {
     "data": {
      "text/plain": [
       "array([[[6., 6., 6.],\n",
       "        [6., 6., 6.]],\n",
       "\n",
       "       [[6., 6., 6.],\n",
       "        [6., 6., 6.]],\n",
       "\n",
       "       [[6., 6., 6.],\n",
       "        [6., 6., 6.]],\n",
       "\n",
       "       [[6., 6., 6.],\n",
       "        [6., 6., 6.]],\n",
       "\n",
       "       [[6., 6., 6.],\n",
       "        [6., 6., 6.]]], dtype=float32)"
      ]
     },
     "execution_count": 8,
     "metadata": {},
     "output_type": "execute_result"
    }
   ],
   "source": [
    "#Generating nd array with same value\n",
    "np.full((5,2,3), fill_value=6,dtype=np.float32)"
   ]
  },
  {
   "cell_type": "code",
   "execution_count": 9,
   "id": "10fa7935-8573-4c4a-b227-9d1ddffd5457",
   "metadata": {},
   "outputs": [
    {
     "data": {
      "text/plain": [
       "array([[1., 0., 0.],\n",
       "       [0., 1., 0.],\n",
       "       [0., 0., 1.]])"
      ]
     },
     "execution_count": 9,
     "metadata": {},
     "output_type": "execute_result"
    }
   ],
   "source": [
    "#Identity matrix -> square matrix\n",
    "np.eye(3)"
   ]
  },
  {
   "cell_type": "code",
   "execution_count": 10,
   "id": "73e512a9-b032-4188-861d-1e2bdbc9c4a6",
   "metadata": {},
   "outputs": [
    {
     "data": {
      "text/plain": [
       "(array([ 5,  6,  7,  8,  9, 10, 11, 12, 13, 14]), array([5, 7, 9]))"
      ]
     },
     "execution_count": 10,
     "metadata": {},
     "output_type": "execute_result"
    }
   ],
   "source": [
    "#Using arange\n",
    "np.arange(5,15) , np.arange(5,10,2)"
   ]
  },
  {
   "cell_type": "code",
   "execution_count": 11,
   "id": "8aeefbe1-632e-401f-b8ab-34febafe67a2",
   "metadata": {},
   "outputs": [
    {
     "data": {
      "text/plain": [
       "(array([ 5.        ,  5.55555556,  6.11111111,  6.66666667,  7.22222222,\n",
       "         7.77777778,  8.33333333,  8.88888889,  9.44444444, 10.        ]),\n",
       " array([   1.,   10.,  100., 1000.]))"
      ]
     },
     "execution_count": 11,
     "metadata": {},
     "output_type": "execute_result"
    }
   ],
   "source": [
    "#Using linspace and logspace\n",
    "np.linspace(5,10, num=10) , np.logspace(0, 3, num=4, base=10)"
   ]
  },
  {
   "cell_type": "markdown",
   "id": "94965a5b-1d23-4d77-9408-22bb62fa79bf",
   "metadata": {},
   "source": [
    "## Randomness & Reproducibility\n",
    "> **Essentials:** random integers, uniform & normal draws, `choice`, `shuffle`, and `permutation`.  \n",
    ">\n",
    "> **Learning goals:** create pseudo-random datasets and reproduce runs with `np.random.seed()`.  \n",
    "> **Tip:** `np.random.permutation` returns a new array; `np.random.shuffle` mutates in place.  \n",
    "> *Challenge:* Shuffle indices and split data into an 80/20 train/test split using a permutation."
   ]
  },
  {
   "cell_type": "code",
   "execution_count": 12,
   "id": "31def851-df1e-4a39-a647-ded8751ea488",
   "metadata": {},
   "outputs": [
    {
     "data": {
      "text/plain": [
       "array([[0.49645227, 0.0201977 , 0.80468969],\n",
       "       [0.7101468 , 0.17223088, 0.88264077]])"
      ]
     },
     "execution_count": 12,
     "metadata": {},
     "output_type": "execute_result"
    }
   ],
   "source": [
    "#Using random module:\n",
    "np.random.rand(2,3)"
   ]
  },
  {
   "cell_type": "code",
   "execution_count": 13,
   "id": "4c51b078-b548-47a0-bd2f-8219b349d9eb",
   "metadata": {},
   "outputs": [
    {
     "data": {
      "text/plain": [
       "array([[-0.30507066,  0.68346914,  0.80498157],\n",
       "       [ 1.52626875, -0.98724098, -1.48139502]])"
      ]
     },
     "execution_count": 13,
     "metadata": {},
     "output_type": "execute_result"
    }
   ],
   "source": [
    "np.random.randn(2,3)"
   ]
  },
  {
   "cell_type": "code",
   "execution_count": 14,
   "id": "fb76777a-dfa1-41a7-8087-4f3614d73353",
   "metadata": {},
   "outputs": [
    {
     "data": {
      "text/plain": [
       "array([[-0.34979577, -0.63435891, -0.0242796 , -0.92167642],\n",
       "       [-0.75741426, -0.5424616 ,  1.62181333,  1.82159325]])"
      ]
     },
     "execution_count": 14,
     "metadata": {},
     "output_type": "execute_result"
    }
   ],
   "source": [
    "np.random.standard_normal((2,4))"
   ]
  },
  {
   "cell_type": "code",
   "execution_count": 3,
   "id": "0c3e45d3-1ca0-49c3-b0d1-25286964feb3",
   "metadata": {},
   "outputs": [
    {
     "name": "stdout",
     "output_type": "stream",
     "text": [
      "[6 3 7 4 6] [0.44583275 0.09997492 0.45924889 0.33370861 0.14286682] [-0.4826188   0.16416482  0.23309524  0.11799461  1.46237812]\n",
      "shuffle: [9 5 6 4 3 1 7 2 0 8]\n",
      "permutation: [1 8 7 5 4 9 0 3 6 2]\n"
     ]
    }
   ],
   "source": [
    "#Random Module:\n",
    "np.random.seed(42)           # reproducibility\n",
    "\n",
    "# distributions\n",
    "r_int = np.random.randint(0, 10, size=5)\n",
    "r_uni = np.random.random(5)  # uniform [0,1)\n",
    "r_norm = np.random.randn(5)  # standard normal\n",
    "\n",
    "# shuffle\n",
    "arr = np.arange(10)\n",
    "np.random.shuffle(arr)        # in-place\n",
    "perm = np.random.permutation(10)  # new shuffled array\n",
    "\n",
    "print(r_int, r_uni, r_norm)\n",
    "print(\"shuffle:\", arr)\n",
    "print(\"permutation:\", perm)"
   ]
  },
  {
   "cell_type": "markdown",
   "id": "32701ad0-55e2-47e9-9c88-6e6de232bbf9",
   "metadata": {},
   "source": [
    "## Array Attributes (shape, dtype, size)\n",
    "> **Why it matters:** before manipulating data you must *know* its shape, type, and memory footprint.  \n",
    ">\n",
    "> **Learning goals:** inspect `.shape`, `.ndim`, `.dtype`, `.size`, `.itemsize`, `.nbytes`.  \n",
    "> **Tip:** `.nbytes` helps when debugging memory issues on large datasets.  \n",
    "> *Challenge:* Create an array of `float64` and convert it to `float32` —> observe the `nbytes` change.\n"
   ]
  },
  {
   "cell_type": "code",
   "execution_count": 16,
   "id": "5d7925be-8f4e-4eb6-9e5d-0519e1aea106",
   "metadata": {},
   "outputs": [],
   "source": [
    "#Array attributes:\n",
    "arr = np.array([.2,.3,6.2,5,95,3.9])"
   ]
  },
  {
   "cell_type": "code",
   "execution_count": 17,
   "id": "798bf620-82bf-4f2a-a6d9-e0eb81452685",
   "metadata": {},
   "outputs": [
    {
     "data": {
      "text/plain": [
       "dtype('float64')"
      ]
     },
     "execution_count": 17,
     "metadata": {},
     "output_type": "execute_result"
    }
   ],
   "source": [
    "#Atrributes:\n",
    "# 1) dtypes:\n",
    "arr.dtype"
   ]
  },
  {
   "cell_type": "code",
   "execution_count": 18,
   "id": "2c77dd20-59f0-48b5-b180-1b753ad2b484",
   "metadata": {},
   "outputs": [],
   "source": [
    "arr2 = np.array([.2,.3,6.2,5,95,3.9],dtype=np.int32)"
   ]
  },
  {
   "cell_type": "code",
   "execution_count": 19,
   "id": "f0939473-cee3-443d-9c66-1d04fb8f4a2d",
   "metadata": {},
   "outputs": [
    {
     "data": {
      "text/plain": [
       "array([ 0,  0,  6,  5, 95,  3], dtype=int32)"
      ]
     },
     "execution_count": 19,
     "metadata": {},
     "output_type": "execute_result"
    }
   ],
   "source": [
    "arr2"
   ]
  },
  {
   "cell_type": "code",
   "execution_count": 20,
   "id": "9961c196-7140-42f8-a609-20d591a35088",
   "metadata": {},
   "outputs": [
    {
     "name": "stdout",
     "output_type": "stream",
     "text": [
      "[ 0  0  6  5 95  3]\n"
     ]
    }
   ],
   "source": [
    "print(arr2.astype(np.int16))"
   ]
  },
  {
   "cell_type": "code",
   "execution_count": 21,
   "id": "04476de7-e985-4223-9167-14dc7b9f2537",
   "metadata": {},
   "outputs": [],
   "source": [
    "strarr = np.array([\"numpy\",\"session\"],dtype=\"U7\")"
   ]
  },
  {
   "cell_type": "code",
   "execution_count": 22,
   "id": "3ce01423-5607-4aad-bd6c-325a3ad0e577",
   "metadata": {},
   "outputs": [
    {
     "data": {
      "text/plain": [
       "array(['numpy', 'session'], dtype='<U7')"
      ]
     },
     "execution_count": 22,
     "metadata": {},
     "output_type": "execute_result"
    }
   ],
   "source": [
    "strarr"
   ]
  },
  {
   "cell_type": "code",
   "execution_count": 23,
   "id": "ba8a6e6e-7e1d-4737-ab8a-f184c204efb7",
   "metadata": {},
   "outputs": [],
   "source": [
    "arr = np.arange(1,6, dtype=np.float32)"
   ]
  },
  {
   "cell_type": "code",
   "execution_count": 24,
   "id": "5546ef98-7088-4fa6-9f75-bba5082ab36a",
   "metadata": {},
   "outputs": [
    {
     "data": {
      "text/plain": [
       "array([1., 2., 3., 4., 5.], dtype=float32)"
      ]
     },
     "execution_count": 24,
     "metadata": {},
     "output_type": "execute_result"
    }
   ],
   "source": [
    "arr"
   ]
  },
  {
   "cell_type": "code",
   "execution_count": 25,
   "id": "7d82dbb5-0f1c-40dc-99c1-4cb0d31bda73",
   "metadata": {},
   "outputs": [
    {
     "data": {
      "text/plain": [
       "(array([[0.45049927, 0.01326496, 0.94220173, 0.5632882 , 0.3854165 ],\n",
       "        [0.01596625, 0.23089382, 0.24102546, 0.68326354, 0.6099967 ]],\n",
       "       dtype=float32),\n",
       " dtype('float32'))"
      ]
     },
     "execution_count": 25,
     "metadata": {},
     "output_type": "execute_result"
    }
   ],
   "source": [
    "# 2) shape, size:\n",
    "arr = np.random.rand(2,5) #np.float64\n",
    "arr = arr.astype(dtype = np.float32)\n",
    "arr, arr.dtype"
   ]
  },
  {
   "cell_type": "code",
   "execution_count": 26,
   "id": "ad264b59-130d-4ffa-b43d-a7f98342c7bb",
   "metadata": {},
   "outputs": [
    {
     "data": {
      "text/plain": [
       "10"
      ]
     },
     "execution_count": 26,
     "metadata": {},
     "output_type": "execute_result"
    }
   ],
   "source": [
    "arr.size # returns total number of elements"
   ]
  },
  {
   "cell_type": "code",
   "execution_count": 27,
   "id": "efbc5aa9-00e3-4265-9bb5-60c6db9be874",
   "metadata": {},
   "outputs": [
    {
     "data": {
      "text/plain": [
       "(2, 5)"
      ]
     },
     "execution_count": 27,
     "metadata": {},
     "output_type": "execute_result"
    }
   ],
   "source": [
    "arr.shape #returns the shape of the numpy array"
   ]
  },
  {
   "cell_type": "code",
   "execution_count": 28,
   "id": "1db13bb3-063e-48b6-9503-0323a492a5ea",
   "metadata": {},
   "outputs": [
    {
     "data": {
      "text/plain": [
       "2"
      ]
     },
     "execution_count": 28,
     "metadata": {},
     "output_type": "execute_result"
    }
   ],
   "source": [
    "# 3) Dimension\n",
    "arr.ndim # returns the number of dimensions"
   ]
  },
  {
   "cell_type": "code",
   "execution_count": 29,
   "id": "4832fe43-e22e-42fa-b5db-929dd1bb8124",
   "metadata": {},
   "outputs": [
    {
     "data": {
      "text/plain": [
       "(4, 40)"
      ]
     },
     "execution_count": 29,
     "metadata": {},
     "output_type": "execute_result"
    }
   ],
   "source": [
    "# 4) Memory occupied by the array\n",
    "arr.itemsize , arr.nbytes"
   ]
  },
  {
   "cell_type": "code",
   "execution_count": 30,
   "id": "381843d8-0878-4e05-804d-fd4010dd918d",
   "metadata": {},
   "outputs": [],
   "source": [
    "# (2,3,4) -> (6,4)"
   ]
  },
  {
   "cell_type": "code",
   "execution_count": 31,
   "id": "86e5f96b-6d70-4207-a274-fe5848f4e391",
   "metadata": {},
   "outputs": [],
   "source": [
    "#Reshaping array:\n",
    "arr = np.arange(16)"
   ]
  },
  {
   "cell_type": "code",
   "execution_count": 32,
   "id": "f6c67ccd-5d05-4146-93f2-0a68bcbc0d58",
   "metadata": {},
   "outputs": [
    {
     "data": {
      "text/plain": [
       "(16,)"
      ]
     },
     "execution_count": 32,
     "metadata": {},
     "output_type": "execute_result"
    }
   ],
   "source": [
    "arr.shape # -> 1d array"
   ]
  },
  {
   "cell_type": "code",
   "execution_count": 33,
   "id": "b191cd8b-ccc5-4bcb-9493-24d8e3a653eb",
   "metadata": {},
   "outputs": [
    {
     "data": {
      "text/plain": [
       "(5, 1)"
      ]
     },
     "execution_count": 33,
     "metadata": {},
     "output_type": "execute_result"
    }
   ],
   "source": [
    "arr3 = np.random.rand(5,1)\n",
    "arr3.shape"
   ]
  },
  {
   "cell_type": "code",
   "execution_count": 34,
   "id": "839fca59-9bca-4962-a2bb-cb4a43aa2319",
   "metadata": {},
   "outputs": [
    {
     "data": {
      "text/plain": [
       "array([[ 0,  1,  2,  3,  4,  5,  6,  7],\n",
       "       [ 8,  9, 10, 11, 12, 13, 14, 15]])"
      ]
     },
     "execution_count": 34,
     "metadata": {},
     "output_type": "execute_result"
    }
   ],
   "source": [
    "arr.reshape(2,8) # -> 2d array"
   ]
  },
  {
   "cell_type": "code",
   "execution_count": 35,
   "id": "f7fab976-a3f9-4d37-a7ca-19336ca6cb5f",
   "metadata": {},
   "outputs": [
    {
     "data": {
      "text/plain": [
       "array([[[ 0,  1],\n",
       "        [ 2,  3]],\n",
       "\n",
       "       [[ 4,  5],\n",
       "        [ 6,  7]],\n",
       "\n",
       "       [[ 8,  9],\n",
       "        [10, 11]],\n",
       "\n",
       "       [[12, 13],\n",
       "        [14, 15]]])"
      ]
     },
     "execution_count": 35,
     "metadata": {},
     "output_type": "execute_result"
    }
   ],
   "source": [
    "arr.reshape(4,2,2) # -> 3d array"
   ]
  },
  {
   "cell_type": "code",
   "execution_count": 36,
   "id": "98a39f2e-4153-4ef0-96d4-e87719f81437",
   "metadata": {},
   "outputs": [
    {
     "data": {
      "text/plain": [
       "array([[0.42515587, 0.20794166, 0.56770033, 0.03131329, 0.84228477]])"
      ]
     },
     "execution_count": 36,
     "metadata": {},
     "output_type": "execute_result"
    }
   ],
   "source": [
    "np.random.rand(1,5)"
   ]
  },
  {
   "cell_type": "markdown",
   "id": "d806d5aa-3486-4b99-8633-35344a3ed849",
   "metadata": {},
   "source": [
    "## Indexing & Slicing\n",
    "> **Focus:** access values precisely —> by index, by slice, with negative indices, and with boolean/fancy indexing.  \n",
    ">\n",
    "> **Learning goals:** master common indexing patterns and extraction techniques.  \n",
    "> **Tip:** Slices return *views* not copies —> be mindful when mutating slices.  \n",
    "> *Challenge:* Extract all values greater than 50 from a 1D array using boolean indexing.\n"
   ]
  },
  {
   "cell_type": "code",
   "execution_count": 38,
   "id": "fb96cb9b-abb5-48af-8c0a-0d69f529b425",
   "metadata": {},
   "outputs": [
    {
     "name": "stdout",
     "output_type": "stream",
     "text": [
      "[0 1 2 3 4 5 6 7 8 9]\n",
      "2\n",
      "9\n",
      "[2 4 6]\n",
      "[[0 1 2 3 4]\n",
      " [5 6 7 8 9]]\n",
      "[[1 2]]\n"
     ]
    }
   ],
   "source": [
    "#Indexing, Slicing:\n",
    "import numpy as np\n",
    "a = np.arange(10) \n",
    "print(a)\n",
    "print(a[2])              \n",
    "print(a[-1])             \n",
    "print(a[2:8:2])   \n",
    "\n",
    "a2 = a.reshape(2,5)\n",
    "print(a2)\n",
    "print(a2[:1, 1:3])"
   ]
  },
  {
   "cell_type": "code",
   "execution_count": 39,
   "id": "7966d52e-2892-4c52-a39f-2499c68b1539",
   "metadata": {},
   "outputs": [
    {
     "name": "stdout",
     "output_type": "stream",
     "text": [
      "M:\n",
      " [[ 0  1  2  3]\n",
      " [ 4  5  6  7]\n",
      " [ 8  9 10 11]]\n",
      "row 1: [4 5 6 7]\n",
      "element (2,3): 11\n"
     ]
    }
   ],
   "source": [
    "M = np.arange(12).reshape(3,4)\n",
    "print(\"M:\\n\", M)\n",
    "print(\"row 1:\", M[1])\n",
    "print(\"element (2,3):\", M[2,3])"
   ]
  },
  {
   "cell_type": "code",
   "execution_count": 41,
   "id": "981d2420-84d2-4461-b439-114ed212ec6d",
   "metadata": {},
   "outputs": [
    {
     "name": "stdout",
     "output_type": "stream",
     "text": [
      "rows 0 and 2:\n",
      " [[ 0  1  2  3]\n",
      " [ 8  9 10 11]]\n",
      "[0 1 2 3 4 5 6 7 8 9]\n",
      "[ True False  True False  True False  True False  True False]\n",
      "even numbers: [0 2 4 6 8]\n"
     ]
    }
   ],
   "source": [
    "# fancy indexing\n",
    "idx = [0,2]\n",
    "print(\"rows 0 and 2:\\n\", M[idx])\n",
    "\n",
    "# boolean indexing: select even numbers\n",
    "a = np.arange(10)\n",
    "print(a)\n",
    "bool_arr = (a % 2 == 0)\n",
    "print(bool_arr)\n",
    "print(\"even numbers:\", a[bool_arr])"
   ]
  },
  {
   "cell_type": "markdown",
   "id": "f58fa04b-7013-4c3e-9876-98795f55e5b5",
   "metadata": {},
   "source": [
    "## Array Operations & Broadcasting\n",
    "> **Idea:** do element-wise math quickly with NumPy’s universal functions and broadcasting rules.  \n",
    ">\n",
    "> **Learning goals:** perform arithmetic, apply `np.sqrt`, `np.exp`, and add vectors to matrices using broadcasting.  \n",
    "> **Tip:** When shapes differ, ask “can this broadcast?” —> align trailing dimensions.  \n",
    "> *Challenge:* Add a 1×3 array to every row of a 5×3 matrix and verify the result shape."
   ]
  },
  {
   "cell_type": "code",
   "execution_count": 43,
   "id": "7ec4cff0-996d-4cd7-b67e-0fb50ab61ac7",
   "metadata": {},
   "outputs": [
    {
     "name": "stdout",
     "output_type": "stream",
     "text": [
      "add: [11 22 33]\n",
      "mul: [2 4 6]\n",
      "sqrt: [1.         1.41421356 1.73205081]\n",
      "exp: [ 2.71828183  7.3890561  20.08553692]\n"
     ]
    }
   ],
   "source": [
    "#Simple array operations:\n",
    "import numpy as np\n",
    "A = np.array([1,2,3])\n",
    "B = np.array([10,20,30])\n",
    "\n",
    "# Element wise operations --> shape constant\n",
    "\n",
    "print(\"add:\", A + B)\n",
    "print(\"mul:\", A * 2)\n",
    "print(\"sqrt:\", np.sqrt(A))\n",
    "print(\"exp:\", np.exp(A))"
   ]
  },
  {
   "cell_type": "markdown",
   "id": "82f1a337-4cbc-49c2-b178-6a60bad49eb9",
   "metadata": {},
   "source": [
    "## Mathematical & Statistical Functions\n",
    "> **What you’ll do:** compute sums, means, variances, mins/maxs and use `axis` to aggregate rows/columns.  \n",
    ">\n",
    "> **Learning goals:** use `np.sum`, `np.mean`, `np.std`, `np.argmax` with `axis` correctly.  \n",
    "> **Tip:** `axis=0` collapses rows (operate column-wise); `axis=1` collapses columns (operate row-wise).  \n",
    "> *Challenge:* Compute column-wise mean and subtract it from the matrix (centering)."
   ]
  },
  {
   "cell_type": "code",
   "execution_count": 44,
   "id": "eb762bf2-0dde-4371-9f67-4b963f823a76",
   "metadata": {},
   "outputs": [
    {
     "name": "stdout",
     "output_type": "stream",
     "text": [
      "M:\n",
      " [[ 1  2  3  4]\n",
      " [ 5  6  7  8]\n",
      " [ 9 10 11 12]]\n",
      "sum all: 78\n",
      "sum axis=0 (columns): [15 18 21 24]\n",
      "sum axis=1 (rows): [10 26 42]\n",
      "mean: 6.5 std: 3.452052529534663\n",
      "argmax axis=1: [0 0 0 0]\n"
     ]
    }
   ],
   "source": [
    "#Mathematical and Statistical Operations:\n",
    "M = np.arange(1,13).reshape(3,4)  # 3x4\n",
    "print(\"M:\\n\", M)\n",
    "print(\"sum all:\", M.sum())\n",
    "print(\"sum axis=0 (columns):\", M.sum(axis=0))\n",
    "print(\"sum axis=1 (rows):\", M.sum(axis=1))\n",
    "print(\"mean:\", M.mean(), \"std:\", M.std())\n",
    "print(\"argmax axis=1:\", M.argmin(axis=0))\n",
    "\n",
    "# axis 0: first dimension, axis 1: second dimension and soon"
   ]
  },
  {
   "attachments": {},
   "cell_type": "markdown",
   "id": "4fabee5e-b2f0-4934-8a26-24e6ac97cd55",
   "metadata": {},
   "source": [
    "## Brocasting intution \n",
    "<img src=\"broadcasting.png\" alt=\"broadcasting\" width=\"500\"/> <img src=\"broad.png\" alt=\"broad\" width=\"400\" />"
   ]
  },
  {
   "cell_type": "code",
   "execution_count": 46,
   "id": "898abf01-5440-4a38-ac5f-56d015bf2880",
   "metadata": {},
   "outputs": [
    {
     "name": "stdout",
     "output_type": "stream",
     "text": [
      "[6 7 8]\n"
     ]
    }
   ],
   "source": [
    "# Broadcasting:\n",
    "\"\"\"\n",
    "Broadcasting Rules\n",
    "\n",
    "Compare shapes from right to left.\n",
    "\n",
    "Two dimensions are compatible if:\n",
    "\n",
    "They are equal, OR\n",
    "\n",
    "One of them is 1.\n",
    "\n",
    "If incompatible, NumPy throws an error.\n",
    "\"\"\"\n",
    "\n",
    "import numpy as np\n",
    "\n",
    "a = np.array([1, 2, 3]) \n",
    "b = 5  # scalar\n",
    "\n",
    "result = a + b\n",
    "print(result)  # [6 7 8]\n"
   ]
  },
  {
   "cell_type": "code",
   "execution_count": 47,
   "id": "955da77a-0731-460d-b8d7-2169b4dd26c4",
   "metadata": {},
   "outputs": [
    {
     "name": "stdout",
     "output_type": "stream",
     "text": [
      "[[11 21 31]\n",
      " [12 22 32]\n",
      " [13 23 33]]\n"
     ]
    }
   ],
   "source": [
    "a = np.array([[1], [2], [3]])  # shape (3,1)\n",
    "b = np.array([10, 20, 30])     # shape (  3,)\n",
    "\n",
    "result = a + b\n",
    "print(result)"
   ]
  },
  {
   "cell_type": "code",
   "execution_count": 48,
   "id": "b11da0b3-4b47-45d0-8595-df7ab8fa0477",
   "metadata": {},
   "outputs": [
    {
     "name": "stdout",
     "output_type": "stream",
     "text": [
      "[[5 6 7]\n",
      " [6 7 8]\n",
      " [7 8 9]]\n"
     ]
    }
   ],
   "source": [
    "a = np.array([[1, 2, 3]])      # shape (1,3)\n",
    "b = np.array([[4], [5], [6]])  # shape (3,1)\n",
    "\n",
    "result = a + b\n",
    "print(result)"
   ]
  },
  {
   "cell_type": "code",
   "execution_count": 49,
   "id": "5bcb1a15-d888-4cc0-908b-1012395e306c",
   "metadata": {},
   "outputs": [],
   "source": [
    "a = np.array([1, 2, 3])  # shape (3,)\n",
    "b = np.array([4, 5])     # shape (2,)\n",
    "\n",
    "# This will throw an error -> violation of broadcasting rules\n",
    "# print(a + b) "
   ]
  },
  {
   "cell_type": "code",
   "execution_count": 50,
   "id": "dca1add5-792b-4d37-b3ae-69e552c71a7b",
   "metadata": {},
   "outputs": [
    {
     "name": "stdout",
     "output_type": "stream",
     "text": [
      "[[-1.34164079 -1.34164079 -1.34164079]\n",
      " [-0.4472136  -0.4472136  -0.4472136 ]\n",
      " [ 0.4472136   0.4472136   0.4472136 ]\n",
      " [ 1.34164079  1.34164079  1.34164079]]\n"
     ]
    }
   ],
   "source": [
    "#Normalization\n",
    "X = np.array([[1, 2, 3],\n",
    "              [4, 5, 6],\n",
    "              [7, 8, 9],\n",
    "              [10,11,12]])\n",
    "\n",
    "mean = X.mean(axis=0)   # shape (3,)\n",
    "std = X.std(axis=0)     # shape (3,)\n",
    "\n",
    "X_norm = (X - mean) / std\n",
    "\n",
    "(4,3) \n",
    "( 4, 3,)\n",
    "\n",
    "print(X_norm)"
   ]
  },
  {
   "cell_type": "code",
   "execution_count": 51,
   "id": "ded3d283-b8c8-4f84-8464-3cc2394be153",
   "metadata": {},
   "outputs": [
    {
     "name": "stdout",
     "output_type": "stream",
     "text": [
      "[[ 11.21250885]\n",
      " [823.96394293]]\n",
      "(2,)\n",
      "Probabilities: [[0.65900114 0.24243297 0.09856589]\n",
      " [0.02977379 0.80724604 0.16298017]]\n",
      "Sum: [1. 1.]\n"
     ]
    }
   ],
   "source": [
    "#Normalization\n",
    "# logits (raw scores from a model, for example)\n",
    "x = np.array([[2.0, 1.0, 0.1],\n",
    "              [3.2,6.5,4.9]])  \n",
    "\n",
    "# exponentiate\n",
    "exp_x = np.exp(x)\n",
    "\n",
    "# normalize (sum of probabilities = 1)\n",
    "print(np.sum(exp_x,axis = 1, keepdims=True))\n",
    "x = np.sum(exp_x,axis=1,keepdims=False).shape\n",
    "print(x)\n",
    "softmax = exp_x / np.sum(exp_x, axis=1, keepdims=True) # Why keepdims is important here (2,)\n",
    "\n",
    "print(\"Probabilities:\", softmax)\n",
    "print(\"Sum:\", np.sum(softmax, axis=1))  # always 1"
   ]
  },
  {
   "cell_type": "markdown",
   "id": "d06ffa7b-049d-42f9-b6a8-9536efcdad78",
   "metadata": {},
   "source": [
    "## Reshaping, Flattening & Transpose\n",
    "> **Why reshape:** adapt your data’s geometry for ML models, plotting, or broadcasting.  \n",
    ">\n",
    "> **Learning goals:** use `.reshape()`, `.ravel()`, `.flatten()`, `.T`, and `np.newaxis`.  \n",
    "> **Tip:** `.ravel()` is a view when possible; `.flatten()` always makes a copy.  \n",
    "> *Challenge:* Turn a flat 36-length array into shape `(3, 3, 4)` and back."
   ]
  },
  {
   "cell_type": "code",
   "execution_count": 52,
   "id": "a9fcc640-4aaf-4f78-a0c6-e721f7beb484",
   "metadata": {},
   "outputs": [
    {
     "name": "stdout",
     "output_type": "stream",
     "text": [
      "b:\n",
      " [[0 1 2]\n",
      " [3 4 5]]\n",
      "b.ravel(): [0 1 2 3 4 5]\n",
      "b.flatten(): [0 1 2 3 4 5]\n",
      "x_col shape: (3, 1)\n",
      "M.T shape: (3, 2)\n"
     ]
    }
   ],
   "source": [
    "a = np.arange(6)                  # [0..5]\n",
    "b = a.reshape((2,3))              # view (if possible)\n",
    "print(\"b:\\n\", b)\n",
    "print(\"b.ravel():\", b.ravel())    # flattened view\n",
    "print(\"b.flatten():\", b.flatten())# flattened copy\n",
    "\n",
    "\n",
    "\n",
    "# change shape with new axis\n",
    "x = np.arange(3)          # shape (3,)\n",
    "x_col = x[:, np.newaxis]  # shape (3,1)\n",
    "print(\"x_col shape:\", x_col.shape)\n",
    "\n",
    "# transpose\n",
    "M = np.arange(6).reshape(2,3)\n",
    "print(\"M.T shape:\", M.T.shape)"
   ]
  },
  {
   "cell_type": "markdown",
   "id": "22d58b91-78a2-4ad5-ad39-2336bb132a07",
   "metadata": {},
   "source": [
    "## Views vs Copies (Memory semantics)\n",
    "> **Why this matters:** shared memory causes subtle bugs —> know when you’re mutating shared data.  \n",
    ">\n",
    "> **Learning goals:** learn `.view()` vs `.copy()`, and how assignment affects memory.  \n",
    "> **Tip:** When in doubt, use `.copy()` before mutating if you want safety.  \n",
    "> *Challenge:* Make a view of a slice, modify it, and observe the original array change."
   ]
  },
  {
   "cell_type": "code",
   "execution_count": 53,
   "id": "46d4de93-ed92-44b6-9583-c89f33ebe9f6",
   "metadata": {},
   "outputs": [
    {
     "name": "stdout",
     "output_type": "stream",
     "text": [
      "original after changing view: 999\n",
      "original after changing copy: 1\n"
     ]
    }
   ],
   "source": [
    "#Differences between view and copy\n",
    "a = np.arange(6)\n",
    "v = a.view()      # shallow view (shares memory)\n",
    "c = a.copy()      # deep copy (independent)\n",
    "\n",
    "v[0] = 999\n",
    "print(\"original after changing view:\", a[0])  # changed because view shares memory\n",
    "\n",
    "c[1] = -1\n",
    "print(\"original after changing copy:\", a[1])  # unchanged"
   ]
  },
  {
   "cell_type": "markdown",
   "id": "e6f16684-39e8-47d5-8e7a-02fa4de53181",
   "metadata": {},
   "source": [
    "## Stacking & Splitting Arrays\n",
    "> **Use case:** combine features or split datasets for train/test workflows.  \n",
    ">\n",
    "> **Learning goals:** `hstack`, `vstack`, `concatenate`, `split`, `hsplit`, `vsplit`.  \n",
    "> **Tip:** Pay attention to the `axis` argument —> it’s a frequent source of bugs.  \n",
    "> *Challenge:* Horizontally stack two `3×2` matrices into a `3×4` matrix."
   ]
  },
  {
   "cell_type": "code",
   "execution_count": 54,
   "id": "a3e4d8dd-a105-4e62-8e41-3d200e853aa9",
   "metadata": {},
   "outputs": [
    {
     "name": "stdout",
     "output_type": "stream",
     "text": [
      "hstack: [1 2 3 4 5 6]\n",
      "vstack:\n",
      " [[1 2 3]\n",
      " [4 5 6]]\n",
      "concat axis=0:\n",
      " [[1. 1.]\n",
      " [1. 1.]\n",
      " [0. 0.]\n",
      " [0. 0.]]\n",
      "left: [0 1 2 3 4 5] right: [6 7 8 9]\n"
     ]
    }
   ],
   "source": [
    "#stacking and Splitting \n",
    "a = np.array([1,2,3])\n",
    "b = np.array([4,5,6])\n",
    "h = np.hstack((a,b))\n",
    "v = np.vstack((a,b))\n",
    "print(\"hstack:\", h)\n",
    "print(\"vstack:\\n\", v)\n",
    "\n",
    "# concatenating along axis for 2D arrays\n",
    "A = np.ones((2,2))\n",
    "B = np.zeros((2,2))\n",
    "print(\"concat axis=0:\\n\", np.concatenate([A,B], axis=0))\n",
    "\n",
    "# splitting\n",
    "arr = np.arange(10)\n",
    "left, right = np.split(arr, [6]) \n",
    "# a = arr[2:5]\n",
    "b = arr[5:]\n",
    "# first 6 in left, rest in right\n",
    "print(\"left:\", left, \"right:\", right)"
   ]
  },
  {
   "cell_type": "markdown",
   "id": "f8d37464-7aa4-4643-9cc2-801fa0803297",
   "metadata": {},
   "source": [
    "## Linear Algebra with NumPy\n",
    "> **Key ops:** matrix multiply (`@`, `np.dot`), inverse, determinant, eigen decomposition, and solving linear systems.  \n",
    ">\n",
    "> **Learning goals:** use `np.linalg.solve`, `np.linalg.inv`, `np.linalg.det`, `np.linalg.eig`, and `np.linalg.norm`.  \n",
    "> **Tip:** Prefer `np.linalg.solve(A, b)` over `np.linalg.inv(A) @ b` —> better numerical stability and speed.  \n",
    "> *Challenge:* Solve a small `3×3` linear system and confirm `A @ x ≈ b`."
   ]
  },
  {
   "cell_type": "code",
   "execution_count": 55,
   "id": "0a488c1f-1374-4373-ba9c-9ccfcdf935c6",
   "metadata": {},
   "outputs": [
    {
     "name": "stdout",
     "output_type": "stream",
     "text": [
      "solution x: [2. 3.]\n",
      "invA:\n",
      " [[ 0.4 -0.2]\n",
      " [-0.2  0.6]]\n",
      "det(A): 5.000000000000001\n",
      "eigenvalues: [3.61803399 1.38196601]\n"
     ]
    }
   ],
   "source": [
    "#Simple Linear Algebra\n",
    "A = np.array([[3,1],[1,2]], dtype=float)\n",
    "b = np.array([9,8], dtype=float)\n",
    "\n",
    "# matrix multiply\n",
    "x = np.linalg.solve(A, b)   # solves Ax = b  A @ b a.multiply(b)\n",
    "print(\"solution x:\", x)\n",
    "\n",
    "# inverse & determinant\n",
    "invA = np.linalg.inv(A)\n",
    "detA = np.linalg.det(A)\n",
    "print(\"invA:\\n\", invA)\n",
    "print(\"det(A):\", detA)\n",
    "\n",
    "# eigen decomposition\n",
    "vals, vecs = np.linalg.eig(A)\n",
    "print(\"eigenvalues:\", vals)"
   ]
  },
  {
   "cell_type": "markdown",
   "id": "4e995b57-0960-4f02-885e-5ecd406db911",
   "metadata": {},
   "source": [
    "### Masked Arrays & Conditional Ops\n",
    "> **Goal:** handle missing or invalid data elegantly and perform conditional transformations.  \n",
    ">\n",
    "> **Learning goals:** use `np.where`, `np.any`, `np.all`, and `numpy.ma` masked arrays.  \n",
    "> **Tip:** `np.where` is excellent for conditional replacement without loops.  \n",
    "> *Challenge:* Replace negative values with the column mean using `np.where`."
   ]
  },
  {
   "cell_type": "code",
   "execution_count": 56,
   "id": "48ef1175-5446-4a9f-998c-1ea116a2dc51",
   "metadata": {},
   "outputs": [
    {
     "name": "stdout",
     "output_type": "stream",
     "text": [
      "replace negatives: [0 0 0 1 2]\n",
      "any negative? True\n",
      "all non-negative? False\n",
      "masked: [-- -- 0 1 2]\n"
     ]
    }
   ],
   "source": [
    "#Masked array concept\n",
    "a = np.array([-2, -1, 0, 1, 2])\n",
    "\n",
    "# replace negatives with 0\n",
    "b = np.where(a < 0, 0, a)\n",
    "print(\"replace negatives:\", b)\n",
    "\n",
    "# boolean checks\n",
    "print(\"any negative?\", np.any(a < 0))\n",
    "print(\"all non-negative?\", np.all(a >= 0))\n",
    "\n",
    "# masked array (NumPy masked)\n",
    "import numpy.ma as ma\n",
    "masked = ma.masked_where(a < 0, a)   # mask negatives\n",
    "print(\"masked:\", masked)"
   ]
  },
  {
   "cell_type": "markdown",
   "id": "9ca3bf53-cb04-4e7a-a86f-3c882e10f247",
   "metadata": {},
   "source": [
    "### Images as Arrays\n",
    "> **Why:** images are arrays — you can manipulate pixels with NumPy for filters, transforms, and augmentation.  \n",
    ">\n",
    "> **Learning goals:** read/manipulate an image array, invert colors, and display with `matplotlib`.   \n",
    "> *Challenge:* Convert an RGB image to grayscale using a weighted sum of the channels."
   ]
  },
  {
   "cell_type": "code",
   "execution_count": 57,
   "id": "3bb44da5-d1a0-497f-8040-94304baa646a",
   "metadata": {},
   "outputs": [
    {
     "name": "stdout",
     "output_type": "stream",
     "text": [
      "(683, 1024, 3)\n"
     ]
    },
    {
     "data": {
      "image/png": "[encoded data removed]",
      "text/plain": [
       "<Figure size 640x480 with 3 Axes>"
      ]
     },
     "metadata": {},
     "output_type": "display_data"
    }
   ],
   "source": [
    "import matplotlib.pyplot as plt\n",
    "import matplotlib.image as mpimg\n",
    "\n",
    "# create a small RGB image (100x100) with gradient\n",
    "img = mpimg.imread('cat.jpeg')\n",
    "\n",
    "height = img.shape[0]\n",
    "width = img.shape[1]\n",
    "\n",
    "# invert colors using NumPy\n",
    "print(img.shape)\n",
    "img_inv = 255 - img\n",
    "img_rot = np.rot90(img)\n",
    "\n",
    "# show (in a notebook)\n",
    "plt.subplot(1,3,1); plt.title(\"orig\"); plt.imshow(img); plt.axis('off')\n",
    "plt.subplot(1,3,2); plt.title(\"inverted\"); plt.imshow(img_inv); plt.axis('off')\n",
    "plt.subplot(1,3,3); plt.title(\"rotated 90\"); plt.imshow(img_rot); plt.axis('off')\n",
    "plt.show()"
   ]
  },
  {
   "cell_type": "markdown",
   "id": "a03c942e-cbdf-4d84-b206-25f078cb75fe",
   "metadata": {},
   "source": [
    "#### Exercise: Load and save numpy array from memory to disk.\n",
    "#### Exercise: Implement an image filter using numpy array manipulation\n",
    "#### Exercise: Implement 2d rotation of image using numpy\n",
    "#### Exercise: Review the important concepts and do some challenges in each section"
   ]
  },
  {
   "cell_type": "code",
   "execution_count": null,
   "id": "d4925833-d2d6-4be4-8952-f7286f90d990",
   "metadata": {},
   "outputs": [],
   "source": [
    "## Try yourself"
   ]
  },
  {
   "cell_type": "code",
   "execution_count": 6,
   "id": "2436ca3a-8cbe-4d62-ab5e-4e3b8fd6d56e",
   "metadata": {},
   "outputs": [
    {
     "name": "stdout",
     "output_type": "stream",
     "text": [
      "[[9 5 4]\n",
      " [3 2 4]]\n",
      "[2 3 4]\n"
     ]
    }
   ],
   "source": [
    "a=np.array([2,3,4])\n",
    "b=np.array([[9,5,4],[3,2,4]])\n",
    "print(b)\n",
    "print(a)"
   ]
  },
  {
   "cell_type": "code",
   "execution_count": 4,
   "id": "6a1fc988-8eb2-4f0c-8c7f-f195f55d83e6",
   "metadata": {},
   "outputs": [
    {
     "data": {
      "text/plain": [
       "dtype('int64')"
      ]
     },
     "execution_count": 4,
     "metadata": {},
     "output_type": "execute_result"
    }
   ],
   "source": [
    "b.dtype"
   ]
  },
  {
   "cell_type": "code",
   "execution_count": 7,
   "id": "620d5a28-a5c6-4ba3-bab6-e378740863c9",
   "metadata": {},
   "outputs": [
    {
     "data": {
      "text/plain": [
       "dtype('int64')"
      ]
     },
     "execution_count": 7,
     "metadata": {},
     "output_type": "execute_result"
    }
   ],
   "source": [
    "a.dtype"
   ]
  },
  {
   "cell_type": "code",
   "execution_count": 8,
   "id": "0ce3dc4c-9393-4bed-a2a7-d2167bea65af",
   "metadata": {},
   "outputs": [
    {
     "data": {
      "text/plain": [
       "8"
      ]
     },
     "execution_count": 8,
     "metadata": {},
     "output_type": "execute_result"
    }
   ],
   "source": [
    "b.itemsize"
   ]
  },
  {
   "cell_type": "code",
   "execution_count": 10,
   "id": "aad2f12e-49b8-4407-ac9b-bb8c9056464a",
   "metadata": {},
   "outputs": [
    {
     "data": {
      "text/plain": [
       "3"
      ]
     },
     "execution_count": 10,
     "metadata": {},
     "output_type": "execute_result"
    }
   ],
   "source": [
    "a.size\n"
   ]
  },
  {
   "cell_type": "code",
   "execution_count": 11,
   "id": "16ef9802-7fdd-4b8d-9f94-99d950b631bf",
   "metadata": {},
   "outputs": [
    {
     "data": {
      "text/plain": [
       "6"
      ]
     },
     "execution_count": 11,
     "metadata": {},
     "output_type": "execute_result"
    }
   ],
   "source": [
    "b.size"
   ]
  },
  {
   "cell_type": "code",
   "execution_count": 3,
   "id": "3a59a4b7-54b7-49d4-86db-a20e62559a19",
   "metadata": {},
   "outputs": [],
   "source": [
    "c=np.array([[1,2,3],[1,5,6]])"
   ]
  },
  {
   "cell_type": "code",
   "execution_count": 6,
   "id": "98f2e611-cde7-4b67-b63d-e709a55f260a",
   "metadata": {},
   "outputs": [
    {
     "data": {
      "text/plain": [
       "array([1])"
      ]
     },
     "execution_count": 6,
     "metadata": {},
     "output_type": "execute_result"
    }
   ],
   "source": [
    "c[0,0:1]"
   ]
  },
  {
   "cell_type": "code",
   "execution_count": null,
   "id": "27de473a-4cf3-40d3-98e6-1470dbd64a8d",
   "metadata": {},
   "outputs": [],
   "source": []
  }
 ],
 "metadata": {
  "kernelspec": {
   "display_name": "Python 3 (ipykernel)",
   "language": "python",
   "name": "python3"
  },
  "language_info": {
   "codemirror_mode": {
    "name": "ipython",
    "version": 3
   },
   "file_extension": ".py",
   "mimetype": "text/x-python",
   "name": "python",
   "nbconvert_exporter": "python",
   "pygments_lexer": "ipython3",
   "version": "3.13.5"
  }
 },
 "nbformat": 4,
 "nbformat_minor": 5
}
